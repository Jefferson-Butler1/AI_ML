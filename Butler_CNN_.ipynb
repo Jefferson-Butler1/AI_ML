{
  "cells": [
    {
      "cell_type": "markdown",
      "metadata": {
        "id": "view-in-github",
        "colab_type": "text"
      },
      "source": [
        "<a href=\"https://colab.research.google.com/github/Jefferson-Butler1/AI_ML/blob/main/Butler_CNN_.ipynb\" target=\"_parent\"><img src=\"https://colab.research.google.com/assets/colab-badge.svg\" alt=\"Open In Colab\"/></a>"
      ]
    },
    {
      "cell_type": "markdown",
      "metadata": {
        "id": "01496206"
      },
      "source": [
        "# CS369 Image Classifier\n",
        "## Starter Code\n",
        "\n",
        "This notebook is intended to be a starting point for writing your image classifier.\n",
        "\n",
        "Start by setting the `root_path` variable to point to the dataset on your computer (a relative path is ok). You can verify that you're loading the data correctly by printing out the list of label names.\n",
        "\n",
        "As is, this code loads each image and converts the image into a 1D luminance histogram. This is a very simple feature vector, and you are encouraged to experiment with more complicated ones to improve the accuracy of your predictions.\n",
        "\n",
        "The labels, filenames, and histogram feature vectors are stored in a pandas data frame in case you want to save and load them instead of re-computing them each time.\n",
        "\n",
        "The last part of the code trains a simple SVM classifier and computes the accuracy of the trained model on the same data it was just trained on. You're encouraged to segment the data into Train and Validation subsets, which will allow you to verify that your model isn't over-fitting to the training data.\n",
        "\n",
        "You will need to add several components to the code, listed below. We will talk about these in class, and you can also look up the documentation for the suggested functions online.\n",
        "\n",
        "A rubric describing how the project will be graded will be provided separately."
      ],
      "id": "01496206"
    },
    {
      "cell_type": "code",
      "execution_count": 6,
      "metadata": {
        "id": "7d95c89d"
      },
      "outputs": [],
      "source": [
        "from glob import glob\n",
        "\n",
        "import numpy as np\n",
        "import pandas as pd\n",
        "from PIL import Image\n",
        "from sklearn.model_selection import train_test_split\n",
        "\n",
        "import tensorflow as tf\n",
        "from tensorflow.keras.models import Sequential\n",
        "from tensorflow.keras.layers import Conv2D, MaxPooling2D, Flatten, Dense, Dropout\n",
        "from tensorflow.keras.optimizers import Adam\n",
        "from tensorflow.keras.callbacks import EarlyStopping\n"
      ],
      "id": "7d95c89d"
    },
    {
      "cell_type": "code",
      "execution_count": 2,
      "metadata": {
        "colab": {
          "base_uri": "https://localhost:8080/"
        },
        "id": "kIek4tRPRneN",
        "outputId": "91ba62e1-69eb-4885-b7ae-de73a82ffe5c"
      },
      "outputs": [
        {
          "output_type": "stream",
          "name": "stdout",
          "text": [
            "Mounted at /content/drive\n"
          ]
        }
      ],
      "source": [
        "from google.colab import drive\n",
        "import zipfile\n",
        "import os\n",
        "\n",
        "# Mount Google Drive\n",
        "drive.mount('/content/drive')\n"
      ],
      "id": "kIek4tRPRneN"
    },
    {
      "cell_type": "code",
      "execution_count": 4,
      "metadata": {
        "colab": {
          "base_uri": "https://localhost:8080/"
        },
        "id": "f_WvFdZSUiaE",
        "outputId": "e5929db8-d103-4f64-b70f-7a53eeb0a114"
      },
      "outputs": [
        {
          "output_type": "stream",
          "name": "stdout",
          "text": [
            "Extraction complete. Data is ready for use.\n"
          ]
        }
      ],
      "source": [
        "###unzip data\n",
        "# Path to the zipped folder in your Google Drive\n",
        "zip_path = '/content/drive/MyDrive/CS 369 Shared Folder/Project Resources/Intel Training Dataset.zip'\n",
        "\n",
        "# Destination folder where the zip file will be extracted\n",
        "extracted_path = './Intel\\ Training\\ Dataset/'\n",
        "\n",
        "# Create the destination folder if it doesn't exist\n",
        "os.makedirs(extracted_path, exist_ok=True)\n",
        "\n",
        "# Unzip the file\n",
        "with zipfile.ZipFile(zip_path, 'r') as zip_ref:\n",
        "    zip_ref.extractall(extracted_path)\n",
        "\n",
        "print(\"Extraction complete. Data is ready for use.\")\n"
      ],
      "id": "f_WvFdZSUiaE"
    },
    {
      "cell_type": "code",
      "execution_count": 7,
      "metadata": {
        "id": "2ef542d3"
      },
      "outputs": [],
      "source": [
        "# Path to Dataset\n",
        "root_path = '/content/Intel\\ Training\\ Dataset/Intel Training Dataset/'\n",
        "\n",
        "# split into subfolders based on class label\n",
        "subfolders = sorted(glob(root_path + '*'))\n",
        "label_names = [p.split('/')[-1] for p in subfolders]\n",
        "# print(label_names)"
      ],
      "id": "2ef542d3"
    },
    {
      "cell_type": "code",
      "execution_count": 11,
      "metadata": {
        "id": "900a15e0"
      },
      "outputs": [],
      "source": [
        "# create a list to organize labels, filenames, and images\n",
        "data = []\n",
        "image_height = 150\n",
        "image_width = 150\n",
        "channels = 3  # Assuming RGB images\n",
        "\n",
        "for i, (label, subfolder) in enumerate(zip(label_names, subfolders)):\n",
        "    # get list of file paths for each subfolder\n",
        "    file_paths = sorted(glob(subfolder + '/*.jpg'))\n",
        "    for f in file_paths:\n",
        "        # read image and resize if necessary (adjust dimensions as needed)\n",
        "        img = Image.open(f).resize((image_height, image_width))\n",
        "        fname = f.split('/')[-1].split('_')[-1]\n",
        "\n",
        "        # append to data list with labels\n",
        "        data.append({'labelname': label,\n",
        "                     'filename': fname,\n",
        "                     'labelnum': i,\n",
        "                     'image': np.array(img)})\n",
        "\n",
        "# convert to dataframe for storage\n",
        "# can also export to a file here\n",
        "df = pd.DataFrame(data=data)\n",
        "\n",
        "# Determine the number of classes\n",
        "num_classes = len(df['labelnum'].unique())\n",
        "\n",
        "# Split data into train and test sets\n",
        "train_df, test_df = train_test_split(df, test_size=0.2, stratify=df['labelnum'], random_state=42)\n",
        "\n",
        "# Separate features (images) and labels\n",
        "X_train = np.array(train_df['image'].tolist())\n",
        "y_train = np.array(train_df['labelnum'])\n",
        "\n",
        "X_test = np.array(test_df['image'].tolist())\n",
        "y_test = np.array(test_df['labelnum'])"
      ],
      "id": "900a15e0"
    },
    {
      "cell_type": "code",
      "source": [
        "# Define the CNN model\n",
        "model = Sequential([\n",
        "    Conv2D(32, (3, 3), activation='relu', input_shape=(image_height, image_width, channels)),\n",
        "    MaxPooling2D((2, 2)),\n",
        "    Conv2D(64, (3, 3), activation='relu'),\n",
        "    MaxPooling2D((2, 2)),\n",
        "    Conv2D(128, (3, 3), activation='relu'),\n",
        "    MaxPooling2D((2, 2)),\n",
        "    Flatten(),\n",
        "    Dense(128, activation='relu'),\n",
        "    Dropout(0.5),  # Add dropout for regularization\n",
        "    Dense(num_classes, activation='softmax')\n",
        "])\n",
        "\n",
        "# Compile the model\n",
        "model.compile(optimizer=Adam(),\n",
        "              loss='sparse_categorical_crossentropy',\n",
        "              metrics=['accuracy'])\n",
        "\n",
        "# Early stopping to prevent overfitting\n",
        "early_stopping = EarlyStopping(patience=3, restore_best_weights=True)\n",
        "\n",
        "# Train the model\n",
        "history = model.fit(X_train, y_train,\n",
        "                    epochs=20,\n",
        "                    validation_data=(X_test, y_test),\n",
        "                    callbacks=[early_stopping])\n",
        "\n",
        "# Evaluate the model on test data\n",
        "test_loss, test_accuracy = model.evaluate(X_test, y_test)\n",
        "print('Accuracy on Test Data with CNN: {:.2f}%'.format(test_accuracy * 100))\n"
      ],
      "metadata": {
        "colab": {
          "base_uri": "https://localhost:8080/"
        },
        "id": "t_tVLXHNHOOk",
        "outputId": "7b3b2e71-0371-42b3-e39e-599fadc57389"
      },
      "id": "t_tVLXHNHOOk",
      "execution_count": null,
      "outputs": [
        {
          "output_type": "stream",
          "name": "stdout",
          "text": [
            "Epoch 1/20\n",
            "246/246 [==============================] - 383s 2s/step - loss: 5.2498 - accuracy: 0.3884 - val_loss: 1.3098 - val_accuracy: 0.4827\n",
            "Epoch 2/20\n",
            "144/246 [================>.............] - ETA: 2:16 - loss: 1.3043 - accuracy: 0.4859"
          ]
        }
      ]
    },
    {
      "cell_type": "markdown",
      "source": [
        "THis is where it ends\n"
      ],
      "metadata": {
        "id": "oZTmT_viHPKx"
      },
      "id": "oZTmT_viHPKx"
    },
    {
      "cell_type": "code",
      "execution_count": null,
      "metadata": {
        "id": "c1a3eaaf"
      },
      "outputs": [],
      "source": [
        "# re-load data\n",
        "label_array = df['labelnum'] # vector\n",
        "feature_matrix = np.vstack(df['features']) #2D for lumhist\n"
      ],
      "id": "c1a3eaaf"
    },
    {
      "cell_type": "code",
      "execution_count": null,
      "metadata": {
        "colab": {
          "base_uri": "https://localhost:8080/"
        },
        "id": "p2Ap77Grg-W3",
        "outputId": "42817196-58db-4fe3-e8e7-e867533ad885"
      },
      "outputs": [
        {
          "name": "stdout",
          "output_type": "stream",
          "text": [
            "Accuracy on Test Data with Combined Features & Gradient Boosting: 75.56%\n"
          ]
        }
      ],
      "source": [
        "# Split the combined features into train and test sets\n",
        "X_train_combined, X_test_combined, y_train_combined, y_test_combined = train_test_split(\n",
        "    feature_matrix,\n",
        "    label_array,\n",
        "    test_size=0.2,\n",
        "    stratify=label_array,\n",
        "    random_state=42\n",
        "    )\n",
        "\n",
        "# Standardize the features\n",
        "scaler = StandardScaler()\n",
        "X_train_combined_scaled = scaler.fit_transform(X_train_combined)\n",
        "X_test_combined_scaled = scaler.transform(X_test_combined)\n",
        "\n",
        "# Train a Gradient Boosting classifier\n",
        "gb_clf_combined = GradientBoostingClassifier(n_estimators=1000,\n",
        "    learning_rate=0.1,\n",
        "    max_depth=3,\n",
        "    subsample=0.8,\n",
        "    max_features='sqrt',\n",
        "    random_state=0,\n",
        "    validation_fraction=0.1,\n",
        "    n_iter_no_change=10,\n",
        "    tol=0.001,)\n",
        "gb_clf_combined.fit(X_train_combined_scaled, y_train_combined)\n",
        "\n",
        "# #Train a Random Forest model\n",
        "# rf_clf_combined = RandomForestClassifier(n_estimators = 50,\n",
        "#                                   max_depth = 7,\n",
        "#                                   min_samples_split = 6,\n",
        "#                                   min_samples_leaf = 8,\n",
        "#                                   max_features = 'sqrt',\n",
        "#                                   bootstrap = False)\n",
        "# rf_clf_combined.fit(X_train_combined_scaled, y_train_combined)\n",
        "\n",
        "# Report accuracy on the test data\n",
        "\n",
        "# test_predictions_combined_rf = rf_clf_combined.score(X_test_combined_scaled, y_test_combined)\n",
        "# print('Accuracy on Test Data with Combined Features & Random Forest: {:.2f}%'.format(test_predictions_combined_rf * 100))\n"
      ],
      "id": "p2Ap77Grg-W3"
    },
    {
      "cell_type": "code",
      "source": [
        "\n",
        "test_predictions_combined_gb = gb_clf_combined.score(X_train_combined_scaled, y_train_combined)\n",
        "print('Accuracy on Train Data with Combined Features & Gradient Boosting: {:.2f}%'.format(test_predictions_combined_gb * 100))\n",
        "\n",
        "test_predictions_combined_gb = gb_clf_combined.score(X_test_combined_scaled, y_test_combined)\n",
        "print('Accuracy on Test Data with Combined Features & Gradient Boosting: {:.2f}%'.format(test_predictions_combined_gb * 100))\n"
      ],
      "metadata": {
        "colab": {
          "base_uri": "https://localhost:8080/"
        },
        "id": "FR1cHRHAAGVV",
        "outputId": "365d54a4-08b5-4190-f793-ebc951371a85"
      },
      "id": "FR1cHRHAAGVV",
      "execution_count": null,
      "outputs": [
        {
          "output_type": "stream",
          "name": "stdout",
          "text": [
            "Accuracy on Train Data with Combined Features & Gradient Boosting: 96.05%\n",
            "Accuracy on Test Data with Combined Features & Gradient Boosting: 75.56%\n"
          ]
        }
      ]
    },
    {
      "cell_type": "code",
      "execution_count": null,
      "metadata": {
        "id": "v5j2w2lVjwpw"
      },
      "outputs": [],
      "source": [
        "# Train a Neural Network classifier\n",
        "nn_clf_combined = MLPClassifier(hidden_layer_sizes=(100,50),\n",
        "                                activation='relu',\n",
        "                                solver='adam',\n",
        "                                alpha=0.01,\n",
        "                                max_iter=500,\n",
        "                                random_state=42)\n",
        "nn_clf_combined.fit(X_train_combined_scaled, y_train_combined)\n",
        "\n",
        "# Report accuracy on the test data\n",
        "test_predictions_combined_nn = nn_clf_combined.score(X_train_combined_scaled, y_train_combined)\n",
        "print('Accuracy on Train Data with Combined Features & Neural Network: {:.2f}%'.format(test_predictions_combined_nn * 100))\n",
        "test_predictions_combined_nn = nn_clf_combined.score(X_test_combined_scaled, y_test_combined)\n",
        "print('Accuracy on Test Data with Combined Features & Neural Network: {:.2f}%'.format(test_predictions_combined_nn * 100))"
      ],
      "id": "v5j2w2lVjwpw"
    },
    {
      "cell_type": "code",
      "source": [
        "# Report accuracy on the test data\n",
        "test_predictions_combined_nn = nn_clf_combined.score(X_train_combined_scaled, y_train_combined)\n",
        "print('Accuracy on Train Data with Combined Features & Neural Network: {:.2f}%'.format(test_predictions_combined_nn * 100))\n",
        "test_predictions_combined_nn = nn_clf_combined.score(X_test_combined_scaled, y_test_combined)\n",
        "print('Accuracy on Test Data with Combined Features & Neural Network: {:.2f}%'.format(test_predictions_combined_nn * 100))"
      ],
      "metadata": {
        "colab": {
          "base_uri": "https://localhost:8080/"
        },
        "id": "pOnh5TMZtN7m",
        "outputId": "ad59bdd7-7def-4ba6-b981-806d63ae2c62"
      },
      "id": "pOnh5TMZtN7m",
      "execution_count": null,
      "outputs": [
        {
          "output_type": "stream",
          "name": "stdout",
          "text": [
            "Accuracy on Train Data with Combined Features & Neural Network: 99.95%\n",
            "Accuracy on Test Data with Combined Features & Neural Network: 68.84%\n"
          ]
        }
      ]
    },
    {
      "cell_type": "code",
      "execution_count": null,
      "metadata": {
        "colab": {
          "base_uri": "https://localhost:8080/"
        },
        "id": "KxRlJ2L-XKTL",
        "outputId": "c4b62281-688e-4c7a-c6d6-4bcd66ffdcff"
      },
      "outputs": [
        {
          "name": "stdout",
          "output_type": "stream",
          "text": [
            "Accuracy on Test Data: 46.79%\n"
          ]
        }
      ],
      "source": [
        "# Split lumhist into train and test sets\n",
        "X_train, X_test, y_train, y_test = train_test_split(feature_matrix_lum, label_array, test_size=0.2, random_state=42)\n",
        "\n",
        "# Train a Random Forest classifier\n",
        "rf_clf = RandomForestClassifier(n_estimators=100, random_state=42)\n",
        "rf_clf.fit(X_train, y_train)\n",
        "\n",
        "# Report accuracy on the test data\n",
        "test_predictions = rf_clf.predict(X_test)\n",
        "accuracy = accuracy_score(y_test, test_predictions)\n",
        "print('Accuracy on Test Data: {:.2f}%'.format(accuracy * 100))"
      ],
      "id": "KxRlJ2L-XKTL"
    },
    {
      "cell_type": "code",
      "execution_count": null,
      "metadata": {
        "colab": {
          "base_uri": "https://localhost:8080/"
        },
        "id": "wRnVvWbpRcMZ",
        "outputId": "000d4dc7-8a2d-4f38-99e4-b911ffbe598d"
      },
      "outputs": [
        {
          "name": "stdout",
          "output_type": "stream",
          "text": [
            "Accuracy on Test Data: 63.85%\n"
          ]
        }
      ],
      "source": [
        "# Split hog into train and test sets\n",
        "X_train, X_test, y_train, y_test = train_test_split(feature_matrix_hog, label_array, test_size=0.2, random_state=42)\n",
        "\n",
        "# Train a Random Forest classifier\n",
        "rf_clf = RandomForestClassifier(n_estimators=100, random_state=42)\n",
        "rf_clf.fit(X_train, y_train)\n",
        "\n",
        "# Report accuracy on the test data\n",
        "test_predictions = rf_clf.predict(X_test)\n",
        "accuracy = accuracy_score(y_test, test_predictions)\n",
        "print('Accuracy on Test Data: {:.2f}%'.format(accuracy * 100))"
      ],
      "id": "wRnVvWbpRcMZ"
    },
    {
      "cell_type": "code",
      "execution_count": null,
      "metadata": {
        "colab": {
          "base_uri": "https://localhost:8080/"
        },
        "id": "HcxiJ-v3YVMR",
        "outputId": "b1845592-6bc9-40fe-bb09-08f39e4888a9"
      },
      "outputs": [
        {
          "name": "stdout",
          "output_type": "stream",
          "text": [
            "Accuracy on Test Data with Gradient Boosting: 67.57%\n"
          ]
        }
      ],
      "source": [
        "# Split hog into train and test sets\n",
        "X_train, X_test, y_train, y_test = train_test_split(feature_matrix_hog, label_array, test_size=0.2, random_state=42)\n",
        "\n",
        "# Train a Gradient Boosting classifier\n",
        "gb_clf = GradientBoostingClassifier(n_estimators=100, learning_rate=0.1, random_state=42)\n",
        "gb_clf.fit(X_train, y_train)\n",
        "\n",
        "# Report accuracy on the test data\n",
        "test_predictions_gb = gb_clf.predict(X_test)\n",
        "accuracy_gb = accuracy_score(y_test, test_predictions_gb)\n",
        "print('Accuracy on Test Data with Gradient Boosting: {:.2f}%'.format(accuracy_gb * 100))"
      ],
      "id": "HcxiJ-v3YVMR"
    },
    {
      "cell_type": "code",
      "execution_count": null,
      "metadata": {
        "colab": {
          "base_uri": "https://localhost:8080/"
        },
        "id": "543f7127",
        "outputId": "977a2330-2254-405c-e558-978ba8c2553f"
      },
      "outputs": [
        {
          "name": "stdout",
          "output_type": "stream",
          "text": [
            "Total Accuracy: 0.4985743380855397\n"
          ]
        }
      ],
      "source": [
        "### from starter code\n",
        "# train a simple classifier\n",
        "clf = make_pipeline(StandardScaler(), SVC(gamma='auto'))\n",
        "clf.fit(feature_matrix_lum, label_array)\n",
        "\n",
        "# report overall accuracy on the training data\n",
        "print('Total Accuracy: {}'.format(clf.score(feature_matrix_lum, label_array)))"
      ],
      "id": "543f7127"
    },
    {
      "cell_type": "code",
      "execution_count": null,
      "metadata": {
        "id": "bde5aef1"
      },
      "outputs": [],
      "source": [
        "# Project To Do's\n",
        "# 0. split the data into Train and Validation sets\n",
        "# 1. use sklearn.metrics.confusion_matrix to get more detailed results\n",
        "# 2. use sklearn.model_selection.GridSearchCV to try different params\n",
        "# 3. try different feature vectors and classifiers to improve accuracy\n",
        "# 4. use python's time.time() function to measure compute time costs"
      ],
      "id": "bde5aef1"
    },
    {
      "cell_type": "code",
      "execution_count": null,
      "metadata": {
        "colab": {
          "base_uri": "https://localhost:8080/",
          "height": 608
        },
        "id": "-fcTJNq6aCq5",
        "outputId": "3459c93e-3e2b-4555-8eae-ed9007de3412"
      },
      "outputs": [
        {
          "data": {
            "image/png": "[encoded data removed]",
            "text/plain": [
              "<Figure size 1000x800 with 2 Axes>"
            ]
          },
          "metadata": {},
          "output_type": "display_data"
        }
      ],
      "source": [
        "### confusion matrix\n",
        "import seaborn as sns\n",
        "import matplotlib.pyplot as plt\n",
        "from sklearn.metrics import confusion_matrix\n",
        "\n",
        "# Compute confusion matrix\n",
        "conf_matrix_gb = confusion_matrix(y_test, test_predictions_gb)\n",
        "\n",
        "# Visualize confusion matrix as heatmap\n",
        "plt.figure(figsize=(10, 8))\n",
        "sns.heatmap(conf_matrix_gb, annot=True, cmap='Blues', fmt='d', xticklabels=label_names, yticklabels=label_names)\n",
        "plt.xlabel('Predicted Label')\n",
        "plt.ylabel('True Label')\n",
        "plt.title('Confusion Matrix - Gradient Boosting Classifier')\n",
        "plt.show()\n"
      ],
      "id": "-fcTJNq6aCq5"
    }
  ],
  "metadata": {
    "colab": {
      "provenance": [],
      "include_colab_link": true
    },
    "kernelspec": {
      "display_name": "Python 3 (ipykernel)",
      "language": "python",
      "name": "python3"
    },
    "language_info": {
      "codemirror_mode": {
        "name": "ipython",
        "version": 3
      },
      "file_extension": ".py",
      "mimetype": "text/x-python",
      "name": "python",
      "nbconvert_exporter": "python",
      "pygments_lexer": "ipython3",
      "version": "3.11.6"
    }
  },
  "nbformat": 4,
  "nbformat_minor": 5
}