{
  "cells": [
    {
      "cell_type": "markdown",
      "metadata": {
        "id": "view-in-github",
        "colab_type": "text"
      },
      "source": [
        "<a href=\"https://colab.research.google.com/github/Jefferson-Butler1/AI_ML/blob/main/classifierLab.ipynb\" target=\"_parent\"><img src=\"https://colab.research.google.com/assets/colab-badge.svg\" alt=\"Open In Colab\"/></a>"
      ]
    },
    {
      "cell_type": "markdown",
      "id": "01496206",
      "metadata": {
        "id": "01496206"
      },
      "source": [
        "# CS369 Image Classifier\n",
        "## Starter Code\n",
        "\n",
        "This notebook is intended to be a starting point for writing your image classifier.\n",
        "\n",
        "Start by setting the `root_path` variable to point to the dataset on your computer (a relative path is ok). You can verify that you're loading the data correctly by printing out the list of label names.\n",
        "\n",
        "As is, this code loads each image and converts the image into a 1D luminance histogram. This is a very simple feature vector, and you are encouraged to experiment with more complicated ones to improve the accuracy of your predictions.\n",
        "\n",
        "The labels, filenames, and histogram feature vectors are stored in a pandas data frame in case you want to save and load them instead of re-computing them each time.\n",
        "\n",
        "The last part of the code trains a simple SVM classifier and computes the accuracy of the trained model on the same data it was just trained on. You're encouraged to segment the data into Train and Validation subsets, which will allow you to verify that your model isn't over-fitting to the training data.\n",
        "\n",
        "You will need to add several components to the code, listed below. We will talk about these in class, and you can also look up the documentation for the suggested functions online.\n",
        "\n",
        "A rubric describing how the project will be graded will be provided separately."
      ]
    },
    {
      "cell_type": "code",
      "execution_count": 1,
      "id": "7d95c89d",
      "metadata": {
        "id": "7d95c89d"
      },
      "outputs": [],
      "source": [
        "import numpy as np\n",
        "import pandas as pd\n",
        "from PIL import Image\n",
        "from glob import glob\n",
        "\n",
        "from skimage.exposure import histogram\n",
        "from skimage.color import rgb2gray\n",
        "\n",
        "from sklearn.pipeline import make_pipeline\n",
        "from sklearn.preprocessing import StandardScaler\n",
        "from sklearn.svm import SVC"
      ]
    },
    {
      "cell_type": "code",
      "execution_count": 2,
      "id": "2ef542d3",
      "metadata": {
        "id": "2ef542d3"
      },
      "outputs": [],
      "source": [
        "# Path to Dataset\n",
        "root_path = './Intel\\ Training\\ Dataset/'\n",
        "\n",
        "# split into subfolders based on class label\n",
        "subfolders = sorted(glob(root_path + '*'))\n",
        "label_names = [p.split('/')[-1] for p in subfolders]\n",
        "# print(label_names)"
      ]
    },
    {
      "cell_type": "code",
      "execution_count": 3,
      "id": "900a15e0",
      "metadata": {
        "id": "900a15e0"
      },
      "outputs": [],
      "source": [
        "# create a list to organize labels, filenames, and feature vectors\n",
        "data = []\n",
        "\n",
        "for i, (label, subfolder) in enumerate(zip(label_names, subfolders)):\n",
        "    # get list of file paths for each subfolder\n",
        "    file_paths = sorted(glob(subfolder + '/*.jpg'))\n",
        "    for f in file_paths:\n",
        "        # read image\n",
        "        img = np.array(Image.open(f))\n",
        "        fname = f.split('/')[-1].split('_')[-1]\n",
        "        # convert to luminance histogram (feature vector)\n",
        "        img_hist, _ = histogram(rgb2gray(img), nbins=256,\n",
        "                                  source_range='dtype',\n",
        "                                  normalize=False)\n",
        "        # append to data list with labels\n",
        "        data.append({'labelname':label,\n",
        "                     'filename':fname,\n",
        "                     'labelnum':i,\n",
        "                     'lumhist':img_hist})\n",
        "\n",
        "# convert to dataframe for storage\n",
        "# can also export to a file here\n",
        "df = pd.DataFrame(data=data)"
      ]
    },
    {
      "cell_type": "code",
      "execution_count": 4,
      "id": "c1a3eaaf",
      "metadata": {
        "id": "c1a3eaaf",
        "outputId": "0be51e14-d664-4294-872d-6d9d6c44bbe1",
        "colab": {
          "base_uri": "https://localhost:8080/",
          "height": 504
        }
      },
      "outputs": [
        {
          "output_type": "error",
          "ename": "KeyError",
          "evalue": "'labelnum'",
          "traceback": [
            "\u001b[0;31m---------------------------------------------------------------------------\u001b[0m",
            "\u001b[0;31mKeyError\u001b[0m                                  Traceback (most recent call last)",
            "\u001b[0;32m/usr/local/lib/python3.10/dist-packages/pandas/core/indexes/base.py\u001b[0m in \u001b[0;36mget_loc\u001b[0;34m(self, key, method, tolerance)\u001b[0m\n\u001b[1;32m   3801\u001b[0m             \u001b[0;32mtry\u001b[0m\u001b[0;34m:\u001b[0m\u001b[0;34m\u001b[0m\u001b[0;34m\u001b[0m\u001b[0m\n\u001b[0;32m-> 3802\u001b[0;31m                 \u001b[0;32mreturn\u001b[0m \u001b[0mself\u001b[0m\u001b[0;34m.\u001b[0m\u001b[0m_engine\u001b[0m\u001b[0;34m.\u001b[0m\u001b[0mget_loc\u001b[0m\u001b[0;34m(\u001b[0m\u001b[0mcasted_key\u001b[0m\u001b[0;34m)\u001b[0m\u001b[0;34m\u001b[0m\u001b[0;34m\u001b[0m\u001b[0m\n\u001b[0m\u001b[1;32m   3803\u001b[0m             \u001b[0;32mexcept\u001b[0m \u001b[0mKeyError\u001b[0m \u001b[0;32mas\u001b[0m \u001b[0merr\u001b[0m\u001b[0;34m:\u001b[0m\u001b[0;34m\u001b[0m\u001b[0;34m\u001b[0m\u001b[0m\n",
            "\u001b[0;32m/usr/local/lib/python3.10/dist-packages/pandas/_libs/index.pyx\u001b[0m in \u001b[0;36mpandas._libs.index.IndexEngine.get_loc\u001b[0;34m()\u001b[0m\n",
            "\u001b[0;32m/usr/local/lib/python3.10/dist-packages/pandas/_libs/index.pyx\u001b[0m in \u001b[0;36mpandas._libs.index.IndexEngine.get_loc\u001b[0;34m()\u001b[0m\n",
            "\u001b[0;32mpandas/_libs/hashtable_class_helper.pxi\u001b[0m in \u001b[0;36mpandas._libs.hashtable.PyObjectHashTable.get_item\u001b[0;34m()\u001b[0m\n",
            "\u001b[0;32mpandas/_libs/hashtable_class_helper.pxi\u001b[0m in \u001b[0;36mpandas._libs.hashtable.PyObjectHashTable.get_item\u001b[0;34m()\u001b[0m\n",
            "\u001b[0;31mKeyError\u001b[0m: 'labelnum'",
            "\nThe above exception was the direct cause of the following exception:\n",
            "\u001b[0;31mKeyError\u001b[0m                                  Traceback (most recent call last)",
            "\u001b[0;32m<ipython-input-4-2704050c3f2f>\u001b[0m in \u001b[0;36m<cell line: 2>\u001b[0;34m()\u001b[0m\n\u001b[1;32m      1\u001b[0m \u001b[0;31m# re-load data\u001b[0m\u001b[0;34m\u001b[0m\u001b[0;34m\u001b[0m\u001b[0m\n\u001b[0;32m----> 2\u001b[0;31m \u001b[0mlabel_array\u001b[0m \u001b[0;34m=\u001b[0m \u001b[0mdf\u001b[0m\u001b[0;34m[\u001b[0m\u001b[0;34m'labelnum'\u001b[0m\u001b[0;34m]\u001b[0m \u001b[0;31m# vector\u001b[0m\u001b[0;34m\u001b[0m\u001b[0;34m\u001b[0m\u001b[0m\n\u001b[0m\u001b[1;32m      3\u001b[0m \u001b[0mfeature_matrix\u001b[0m \u001b[0;34m=\u001b[0m \u001b[0mnp\u001b[0m\u001b[0;34m.\u001b[0m\u001b[0mvstack\u001b[0m\u001b[0;34m(\u001b[0m\u001b[0mdf\u001b[0m\u001b[0;34m[\u001b[0m\u001b[0;34m'lumhist'\u001b[0m\u001b[0;34m]\u001b[0m\u001b[0;34m)\u001b[0m \u001b[0;31m#2D Array\u001b[0m\u001b[0;34m\u001b[0m\u001b[0;34m\u001b[0m\u001b[0m\n",
            "\u001b[0;32m/usr/local/lib/python3.10/dist-packages/pandas/core/frame.py\u001b[0m in \u001b[0;36m__getitem__\u001b[0;34m(self, key)\u001b[0m\n\u001b[1;32m   3805\u001b[0m             \u001b[0;32mif\u001b[0m \u001b[0mself\u001b[0m\u001b[0;34m.\u001b[0m\u001b[0mcolumns\u001b[0m\u001b[0;34m.\u001b[0m\u001b[0mnlevels\u001b[0m \u001b[0;34m>\u001b[0m \u001b[0;36m1\u001b[0m\u001b[0;34m:\u001b[0m\u001b[0;34m\u001b[0m\u001b[0;34m\u001b[0m\u001b[0m\n\u001b[1;32m   3806\u001b[0m                 \u001b[0;32mreturn\u001b[0m \u001b[0mself\u001b[0m\u001b[0;34m.\u001b[0m\u001b[0m_getitem_multilevel\u001b[0m\u001b[0;34m(\u001b[0m\u001b[0mkey\u001b[0m\u001b[0;34m)\u001b[0m\u001b[0;34m\u001b[0m\u001b[0;34m\u001b[0m\u001b[0m\n\u001b[0;32m-> 3807\u001b[0;31m             \u001b[0mindexer\u001b[0m \u001b[0;34m=\u001b[0m \u001b[0mself\u001b[0m\u001b[0;34m.\u001b[0m\u001b[0mcolumns\u001b[0m\u001b[0;34m.\u001b[0m\u001b[0mget_loc\u001b[0m\u001b[0;34m(\u001b[0m\u001b[0mkey\u001b[0m\u001b[0;34m)\u001b[0m\u001b[0;34m\u001b[0m\u001b[0;34m\u001b[0m\u001b[0m\n\u001b[0m\u001b[1;32m   3808\u001b[0m             \u001b[0;32mif\u001b[0m \u001b[0mis_integer\u001b[0m\u001b[0;34m(\u001b[0m\u001b[0mindexer\u001b[0m\u001b[0;34m)\u001b[0m\u001b[0;34m:\u001b[0m\u001b[0;34m\u001b[0m\u001b[0;34m\u001b[0m\u001b[0m\n\u001b[1;32m   3809\u001b[0m                 \u001b[0mindexer\u001b[0m \u001b[0;34m=\u001b[0m \u001b[0;34m[\u001b[0m\u001b[0mindexer\u001b[0m\u001b[0;34m]\u001b[0m\u001b[0;34m\u001b[0m\u001b[0;34m\u001b[0m\u001b[0m\n",
            "\u001b[0;32m/usr/local/lib/python3.10/dist-packages/pandas/core/indexes/base.py\u001b[0m in \u001b[0;36mget_loc\u001b[0;34m(self, key, method, tolerance)\u001b[0m\n\u001b[1;32m   3802\u001b[0m                 \u001b[0;32mreturn\u001b[0m \u001b[0mself\u001b[0m\u001b[0;34m.\u001b[0m\u001b[0m_engine\u001b[0m\u001b[0;34m.\u001b[0m\u001b[0mget_loc\u001b[0m\u001b[0;34m(\u001b[0m\u001b[0mcasted_key\u001b[0m\u001b[0;34m)\u001b[0m\u001b[0;34m\u001b[0m\u001b[0;34m\u001b[0m\u001b[0m\n\u001b[1;32m   3803\u001b[0m             \u001b[0;32mexcept\u001b[0m \u001b[0mKeyError\u001b[0m \u001b[0;32mas\u001b[0m \u001b[0merr\u001b[0m\u001b[0;34m:\u001b[0m\u001b[0;34m\u001b[0m\u001b[0;34m\u001b[0m\u001b[0m\n\u001b[0;32m-> 3804\u001b[0;31m                 \u001b[0;32mraise\u001b[0m \u001b[0mKeyError\u001b[0m\u001b[0;34m(\u001b[0m\u001b[0mkey\u001b[0m\u001b[0;34m)\u001b[0m \u001b[0;32mfrom\u001b[0m \u001b[0merr\u001b[0m\u001b[0;34m\u001b[0m\u001b[0;34m\u001b[0m\u001b[0m\n\u001b[0m\u001b[1;32m   3805\u001b[0m             \u001b[0;32mexcept\u001b[0m \u001b[0mTypeError\u001b[0m\u001b[0;34m:\u001b[0m\u001b[0;34m\u001b[0m\u001b[0;34m\u001b[0m\u001b[0m\n\u001b[1;32m   3806\u001b[0m                 \u001b[0;31m# If we have a listlike key, _check_indexing_error will raise\u001b[0m\u001b[0;34m\u001b[0m\u001b[0;34m\u001b[0m\u001b[0m\n",
            "\u001b[0;31mKeyError\u001b[0m: 'labelnum'"
          ]
        }
      ],
      "source": [
        "# re-load data\n",
        "label_array = df['labelnum'] # vector\n",
        "feature_matrix = np.vstack(df['lumhist']) #2D Array"
      ]
    },
    {
      "cell_type": "code",
      "execution_count": null,
      "id": "543f7127",
      "metadata": {
        "id": "543f7127",
        "outputId": "f3fb75c2-f8cb-4998-c5a8-60bc24dfc966"
      },
      "outputs": [
        {
          "name": "stdout",
          "output_type": "stream",
          "text": [
            "Total Accuracy: 0.4985743380855397\n"
          ]
        }
      ],
      "source": [
        "# train a simple classifier\n",
        "clf = make_pipeline(StandardScaler(), SVC(gamma='auto'))\n",
        "clf.fit(feature_matrix, label_array)\n",
        "\n",
        "# report overall accuracy on the training data\n",
        "print('Total Accuracy: {}'.format(clf.score(feature_matrix, label_array)))"
      ]
    },
    {
      "cell_type": "code",
      "execution_count": null,
      "id": "bde5aef1",
      "metadata": {
        "id": "bde5aef1"
      },
      "outputs": [],
      "source": [
        "# Project To Do's\n",
        "# 0. split the data into Train and Validation sets\n",
        "# 1. use sklearn.metrics.confusion_matrix to get more detailed results\n",
        "# 2. use sklearn.model_selection.GridSearchCV to try different params\n",
        "# 3. try different feature vectors and classifiers to improve accuracy\n",
        "# 4. use python's time.time() function to measure compute time costs"
      ]
    }
  ],
  "metadata": {
    "kernelspec": {
      "display_name": "Python 3 (ipykernel)",
      "language": "python",
      "name": "python3"
    },
    "language_info": {
      "codemirror_mode": {
        "name": "ipython",
        "version": 3
      },
      "file_extension": ".py",
      "mimetype": "text/x-python",
      "name": "python",
      "nbconvert_exporter": "python",
      "pygments_lexer": "ipython3",
      "version": "3.11.6"
    },
    "colab": {
      "provenance": [],
      "include_colab_link": true
    }
  },
  "nbformat": 4,
  "nbformat_minor": 5
}